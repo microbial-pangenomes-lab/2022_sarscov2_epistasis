{
 "cells": [
  {
   "cell_type": "code",
   "execution_count": 1,
   "id": "a2742fee-cad2-4bcc-8d4c-87d2a8411c9b",
   "metadata": {
    "tags": []
   },
   "outputs": [],
   "source": [
    "import matplotlib.pyplot as plt\n",
    "import matplotlib.patches as patches\n",
    "import seaborn as sns\n",
    "\n",
    "sns.set_style('ticks',\n",
    "              rc={'axes.facecolor': (0, 0, 0, 0)})\n",
    "sns.set_context('talk')\n",
    "\n",
    "from matplotlib import rcParams, colors, cm\n",
    "rcParams['font.family'] = 'sans-serif'\n",
    "rcParams['figure.dpi'] = 150"
   ]
  },
  {
   "cell_type": "code",
   "execution_count": 2,
   "id": "6897011e-13b0-481e-a2e2-fa13b033a0a0",
   "metadata": {
    "tags": []
   },
   "outputs": [],
   "source": [
    "import gzip\n",
    "import numpy as np\n",
    "import pandas as pd\n",
    "from collections import namedtuple\n",
    "\n",
    "Feature = namedtuple('Feature', ['id',\n",
    "                                 'ftype',\n",
    "                                 'chromosome',\n",
    "                                 'start',\n",
    "                                 'end',\n",
    "                                 'strand',\n",
    "                                 'gene',\n",
    "                                 'product'])\n",
    "\n",
    "def parse_gff(file_name):\n",
    "    # output dict\n",
    "    # key: feature ID\n",
    "    # value: Feature NamedTuple\n",
    "    features = {}\n",
    "\n",
    "    with gzip.open(file_name, 'rt') as gff:\n",
    "        for line in gff:\n",
    "            if line.lstrip().startswith('##FASTA'):\n",
    "                # start of FASTA entries, end of file\n",
    "                break\n",
    "\n",
    "            elif line.lstrip().startswith('#'):\n",
    "                # comment, ignore\n",
    "                continue\n",
    "\n",
    "            # should be a valid GFF3 line\n",
    "            entries = line.split('\\t')\n",
    "\n",
    "            try:\n",
    "                ftype = entries[2]\n",
    "\n",
    "                chrom = entries[0]\n",
    "                start = int(entries[3])\n",
    "                end = int(entries[4])\n",
    "                strand = entries[6]\n",
    "\n",
    "                # integer takes up less space\n",
    "                if strand == '+':\n",
    "                    strand = 1\n",
    "                else:\n",
    "                    strand = -1\n",
    "\n",
    "                # fetch the feature ID from the last field\n",
    "                ID = None\n",
    "                for entry in entries[8].split(';'):\n",
    "                    if entry.startswith('ID=') and '=' in entry:\n",
    "                        ID = entry.split('=')[1]\n",
    "\n",
    "                # could not find it, skip this entry\n",
    "                if ID is None:\n",
    "                    continue\n",
    "\n",
    "                # fetch the gene name\n",
    "                gene = np.nan\n",
    "                for entry in entries[8].split(';'):\n",
    "                    if entry.startswith('gene=') and '=' in entry:\n",
    "                        gene = entry.split('=')[1]\n",
    "\n",
    "                product = np.nan\n",
    "                for entry in entries[8].split(';'):\n",
    "                    if entry.startswith('product=') and '=' in entry:\n",
    "                        product = entry.split('=')[1]\n",
    "\n",
    "                # save the relevant details\n",
    "                features[ID] = Feature(ID, ftype, chrom, start, end, strand, gene, product)\n",
    "\n",
    "            except Exception as e:\n",
    "                # not distinguishing between exceptions\n",
    "                # not great behaviour\n",
    "                logger.warning(f'{e}, skipping line \"{line.rstrip()}\" from {file_name}')\n",
    "                continue\n",
    "\n",
    "    return features\n",
    "\n",
    "features = parse_gff('../data/GCF_009858895.2_ASM985889v3_genomic.gff.gz')\n",
    "\n",
    "res = []\n",
    "for feat in features.values():\n",
    "    for i, position in enumerate(range(feat.start, feat.end+1)):\n",
    "        res.append( (feat.chromosome, feat.ftype, position, i+1, feat.strand, feat.id, feat.gene, feat.product) )\n",
    "r = pd.DataFrame(res,\n",
    "                 columns=['chromosome', 'ftype', 'position', 'feature_position', 'strand', 'id', 'gene', 'product'])\n"
   ]
  },
  {
   "cell_type": "code",
   "execution_count": 3,
   "id": "a2fe350a-103e-4f51-98e1-a2873d49986f",
   "metadata": {
    "tags": []
   },
   "outputs": [
    {
     "data": {
      "text/plain": [
       "{'E': 228,\n",
       " 'M': 669,\n",
       " 'N': 1260,\n",
       " 'ORF10': 117,\n",
       " 'ORF1ab': 13218,\n",
       " 'ORF3a': 828,\n",
       " 'ORF6': 186,\n",
       " 'ORF7a': 366,\n",
       " 'ORF7b': 132,\n",
       " 'ORF8': 366,\n",
       " 'S': 3822}"
      ]
     },
     "execution_count": 3,
     "metadata": {},
     "output_type": "execute_result"
    }
   ],
   "source": [
    "r[r['ftype'] == 'CDS'].groupby('gene')['feature_position'].max().to_dict()"
   ]
  },
  {
   "cell_type": "code",
   "execution_count": 4,
   "id": "5a1b7fc5-18a1-40c5-a42c-6c4a6605e587",
   "metadata": {
    "tags": []
   },
   "outputs": [],
   "source": [
    "gpos = r[r['ftype'] == 'CDS'].groupby('gene').apply(\n",
    "    lambda x: pd.Series([x['position'].min(), x['position'].max()],\n",
    "                        index=['start', 'stop'])).sort_values('start')"
   ]
  },
  {
   "cell_type": "code",
   "execution_count": 12,
   "id": "7d059e2a-449f-47c1-993e-8b10df039291",
   "metadata": {
    "tags": []
   },
   "outputs": [
    {
     "data": {
      "image/png": "[encoded data removed]",
      "text/plain": [
       "<Figure size 1080x216 with 1 Axes>"
      ]
     },
     "metadata": {},
     "output_type": "display_data"
    }
   ],
   "source": [
    "fig, ax = plt.subplots(figsize=(15, 3))\n",
    "\n",
    "for i, (color, (g, (start, stop))) in enumerate(zip(sns.color_palette('Set3', gpos.shape[0]),\n",
    "                                                    gpos.iterrows())):\n",
    "    rect = patches.Rectangle((start, i), stop-start, 1, linewidth=2, edgecolor=color, facecolor=color)\n",
    "    ax.add_patch(rect)\n",
    "    ax.text((stop+start) / 2, i+0.5,\n",
    "            g,\n",
    "            ha='center',\n",
    "            va='center',\n",
    "            weight='bold',\n",
    "            fontsize=14)\n",
    "\n",
    "ax.set_xlim(0, 29903)\n",
    "ax.set_ylim(-0.1, i+1)\n",
    "\n",
    "ax.set_yticks([])\n",
    "ax.set_xticks([])\n",
    "\n",
    "sns.despine(left=True, bottom=True)\n",
    "\n",
    "plt.savefig('genes.png',\n",
    "            dpi=300,\n",
    "            bbox_inches='tight',\n",
    "            transparent=True)\n",
    "plt.savefig('genes.svg',\n",
    "            dpi=300,\n",
    "            bbox_inches='tight',\n",
    "            transparent=True);"
   ]
  }
 ],
 "metadata": {
  "kernelspec": {
   "display_name": "Python 3 (ipykernel)",
   "language": "python",
   "name": "python3"
  },
  "language_info": {
   "codemirror_mode": {
    "name": "ipython",
    "version": 3
   },
   "file_extension": ".py",
   "mimetype": "text/x-python",
   "name": "python",
   "nbconvert_exporter": "python",
   "pygments_lexer": "ipython3",
   "version": "3.8.10"
  }
 },
 "nbformat": 4,
 "nbformat_minor": 5
}
