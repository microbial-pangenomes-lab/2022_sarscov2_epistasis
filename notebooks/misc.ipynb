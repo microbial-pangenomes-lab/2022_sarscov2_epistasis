{
 "cells": [
  {
   "cell_type": "code",
   "execution_count": 1,
   "id": "1ffe7173-ecbf-4a6c-93f8-99fd9a5828e7",
   "metadata": {},
   "outputs": [],
   "source": [
    "import math\n",
    "import numpy as np\n",
    "import pandas as pd\n",
    "# local import\n",
    "from utils import read_mi"
   ]
  },
  {
   "cell_type": "code",
   "execution_count": 2,
   "id": "5e6e5daa-30a8-455a-9f79-9272afb9c5cc",
   "metadata": {},
   "outputs": [],
   "source": [
    "glen = 29_903"
   ]
  },
  {
   "cell_type": "code",
   "execution_count": 3,
   "id": "9106df33-f908-4719-afa2-db4953d1b8f9",
   "metadata": {},
   "outputs": [],
   "source": [
    "a = read_mi('../out/all-notime/mi_annotated.tsv.gz', date=False)"
   ]
  },
  {
   "cell_type": "code",
   "execution_count": 4,
   "id": "35b22ebc-b7f7-477f-873a-83c91eef8d6d",
   "metadata": {},
   "outputs": [
    {
     "name": "stdout",
     "output_type": "stream",
     "text": [
      "500 29403\n",
      "322 7.449332342368548e-07\n",
      "152 0.001218436873747495\n",
      "447079753.0 432253503.0 124750.0\n",
      "\n",
      "1000 28903\n",
      "280 6.703740699041611e-07\n",
      "194 0.0003883883883883884\n",
      "447079753.0 417677253.0 499500.0\n",
      "\n",
      "3000 26903\n",
      "214 5.913689105088696e-07\n",
      "260 5.779704345893075e-05\n",
      "447079753.0 361872253.0 4498500.0\n",
      "\n"
     ]
    }
   ],
   "source": [
    "for dist in [500, 1_000, 3_000]:\n",
    "    all_possible = math.factorial(glen) / (math.factorial(2) * math.factorial(glen - 2))\n",
    "    outside = math.factorial(glen - dist) / (math.factorial(2) * math.factorial(glen - dist - 2))\n",
    "    inside = math.factorial(dist) / (math.factorial(2) * math.factorial(dist - 2))\n",
    "    \n",
    "    print(dist, glen - dist)\n",
    "    \n",
    "    print(a[a['distance'] > dist].shape[0], a[a['distance'] > dist].shape[0] / outside)\n",
    "    \n",
    "    print(a[a['distance'] <= dist].shape[0], a[a['distance'] <= dist].shape[0] / inside)\n",
    "    \n",
    "    print(all_possible, outside, inside)\n",
    "\n",
    "    print('')"
   ]
  }
 ],
 "metadata": {
  "kernelspec": {
   "display_name": "Python 3 (ipykernel)",
   "language": "python",
   "name": "python3"
  },
  "language_info": {
   "codemirror_mode": {
    "name": "ipython",
    "version": 3
   },
   "file_extension": ".py",
   "mimetype": "text/x-python",
   "name": "python",
   "nbconvert_exporter": "python",
   "pygments_lexer": "ipython3",
   "version": "3.10.13"
  }
 },
 "nbformat": 4,
 "nbformat_minor": 5
}
