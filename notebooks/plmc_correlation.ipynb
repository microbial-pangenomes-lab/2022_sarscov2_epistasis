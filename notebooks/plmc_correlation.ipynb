{
 "cells": [
  {
   "cell_type": "code",
   "execution_count": 1,
   "id": "5eca6635-cfd5-4805-9d4d-13359743601e",
   "metadata": {
    "tags": []
   },
   "outputs": [],
   "source": [
    "import matplotlib.pyplot as plt\n",
    "import seaborn as sns\n",
    "\n",
    "sns.set_style('ticks',\n",
    "              rc={'axes.facecolor': (0, 0, 0, 0)})\n",
    "sns.set_context('talk')\n",
    "\n",
    "from matplotlib import rcParams, colors, cm\n",
    "import matplotlib.patches as mpatches\n",
    "rcParams['font.family'] = 'sans-serif'\n",
    "rcParams['figure.dpi'] = 150"
   ]
  },
  {
   "cell_type": "code",
   "execution_count": 2,
   "id": "389bf6ba-3246-40f1-be56-870653bd17da",
   "metadata": {
    "tags": []
   },
   "outputs": [],
   "source": [
    "import os\n",
    "import warnings\n",
    "import itertools\n",
    "import numpy as np\n",
    "import pandas as pd\n",
    "from scipy import stats\n",
    "from pyfish import fish_plot, process_data\n",
    "# local import\n",
    "from utils import read_mi, enrichment\n",
    "from utils import ml_metrics, get_rbd_mutated\n",
    "from utils import AFFINITY, ESCAPE, MOI"
   ]
  },
  {
   "cell_type": "code",
   "execution_count": 3,
   "id": "b33b3a33-d3cb-44c9-a10a-68d9ad0f30c1",
   "metadata": {},
   "outputs": [],
   "source": [
    "df = []\n",
    "d_mutated = {}\n",
    "all_mutated = set()\n",
    "for name in sorted(os.listdir('../out/time-filtered-subsets/')):\n",
    "    try:\n",
    "        df.append(read_mi(f'../out/time-filtered-subsets/{name}/mi_annotated.tsv.gz',\n",
    "                          name,\n",
    "                          date=True))\n",
    "        mutated = get_rbd_mutated('../out/time-filtered-lineages/',\n",
    "                                  names=[name,])\n",
    "        d_mutated[name] = mutated.union(all_mutated)\n",
    "        all_mutated = mutated.union(all_mutated)\n",
    "    except FileNotFoundError:\n",
    "        pass\n",
    "df = pd.concat(df)"
   ]
  },
  {
   "cell_type": "code",
   "execution_count": 4,
   "id": "3ea76941-dff1-4ab3-ab72-085509f8cf9b",
   "metadata": {},
   "outputs": [
    {
     "data": {
      "text/plain": [
       "name\n",
       "2020-03    530\n",
       "2020-04    392\n",
       "2020-05    264\n",
       "2020-06    256\n",
       "2020-07    137\n",
       "2020-08    161\n",
       "2020-09    237\n",
       "2020-10    184\n",
       "2020-11    268\n",
       "2020-12    289\n",
       "2021-01    337\n",
       "2021-02    207\n",
       "2021-03    147\n",
       "2021-04    142\n",
       "2021-05    207\n",
       "2021-06    139\n",
       "2021-07    164\n",
       "2021-08    138\n",
       "2021-09    126\n",
       "2021-10     79\n",
       "2021-11     74\n",
       "2021-12    175\n",
       "2022-01    147\n",
       "2022-02    112\n",
       "2022-03     97\n",
       "2022-04     73\n",
       "2022-05     58\n",
       "2022-06     56\n",
       "2022-07     57\n",
       "2022-08     56\n",
       "2022-09     54\n",
       "2022-10     74\n",
       "2022-11     72\n",
       "2022-12     68\n",
       "2023-01     81\n",
       "2023-02     88\n",
       "2023-03     96\n",
       "Name: pos_source, dtype: int64"
      ]
     },
     "execution_count": 4,
     "metadata": {},
     "output_type": "execute_result"
    }
   ],
   "source": [
    "df[(df['gene_source'] == 'S') & (df['gene_target'] == 'S')].groupby('name')['pos_source'].nunique()"
   ]
  },
  {
   "cell_type": "code",
   "execution_count": 5,
   "id": "4a7d27fd-d47f-499a-8902-0894d3aba5e3",
   "metadata": {},
   "outputs": [
    {
     "data": {
      "text/plain": [
       "array(['2020-03', '2020-04', '2020-05', '2020-06', '2020-07', '2020-08',\n",
       "       '2020-09', '2020-10', '2020-11', '2020-12', '2021-01', '2021-02',\n",
       "       '2021-03', '2021-04', '2021-05', '2021-06', '2021-07', '2021-08',\n",
       "       '2021-09', '2021-10', '2021-11', '2021-12', '2022-01', '2022-02',\n",
       "       '2022-03', '2022-04', '2022-05', '2022-06', '2022-07', '2022-08',\n",
       "       '2022-09', '2022-10', '2022-11', '2022-12', '2023-01', '2023-02',\n",
       "       '2023-03'], dtype=object)"
      ]
     },
     "execution_count": 5,
     "metadata": {},
     "output_type": "execute_result"
    }
   ],
   "source": [
    "df['name'].unique()"
   ]
  },
  {
   "cell_type": "code",
   "execution_count": 6,
   "id": "b16ea0c4-557e-4072-a795-a9f8e4b677bd",
   "metadata": {},
   "outputs": [
    {
     "name": "stdout",
     "output_type": "stream",
     "text": [
      "2020-03\n",
      "2020-04\n",
      "2020-05\n",
      "2020-06\n",
      "2020-07\n",
      "2020-08\n",
      "2020-09\n",
      "2020-10\n",
      "2020-11\n",
      "2020-12\n",
      "2021-01\n",
      "2021-02\n",
      "2021-03\n",
      "2021-04\n",
      "2021-05\n",
      "2021-06\n",
      "2021-07\n",
      "2021-08\n",
      "2021-09\n",
      "2021-10\n",
      "2021-11\n",
      "2021-12\n",
      "2022-01\n",
      "2022-02\n",
      "2022-03\n",
      "2022-04\n",
      "2022-05\n",
      "2022-06\n",
      "2022-07\n",
      "2022-08\n",
      "2022-09\n",
      "2022-10\n",
      "2022-11\n",
      "2022-12\n",
      "2023-01\n",
      "2023-02\n",
      "2023-03\n"
     ]
    }
   ],
   "source": [
    "res = []\n",
    "for name in sorted(df['name'].unique()):\n",
    "    print(name)\n",
    "    p = pd.read_csv(f'../out/spikes/{name}.EC.gz', sep=' ', header=None)\n",
    "    p.columns = ['pos_source', 'base_source',\n",
    "                 'pos_target', 'base_target',\n",
    "                 '_', 'plmc']\n",
    "    m = df[df['name'] == name].copy()\n",
    "    m = m[(m['gene_source'] == 'S') & (m['gene_target'] == 'S')].copy()\n",
    "    m['pos_source'] = m['pos_source'] - 21562\n",
    "    m['pos_target'] = m['pos_target'] - 21562\n",
    "    m = m.set_index(['pos_source', 'pos_target'])\n",
    "    t = [name, m.shape[0], m['mi'].max(), m['mi'].min(),\n",
    "         p.shape[0], p['plmc'].max(), p['plmc'].min()]\n",
    "    p = p.set_index(['pos_source', 'pos_target'])\n",
    "    \n",
    "    idx = m.index.intersection(p.index)\n",
    "    \n",
    "    av = m.loc[idx]['mi']\n",
    "    sv = p.loc[idx]['plmc']\n",
    "\n",
    "    lr = stats.linregress(av, sv)\n",
    "\n",
    "    t.extend([av.max(), av.max() / m['mi'].max(),\n",
    "              sv.max(), sv.max() / p['plmc'].max(),\n",
    "              len(idx), len(idx) / m.shape[0], len(idx) / p.shape[0],\n",
    "              lr.rvalue])\n",
    "    res.append(t)\n",
    "r = pd.DataFrame(res,\n",
    "                 columns=['name', 'num_mi',\n",
    "                          'max_mi', 'min_mi',\n",
    "                          'num_plmc',\n",
    "                          'max_plmc', 'min_plmc',\n",
    "                          'max_shared_mi',\n",
    "                          'max_frac_shared_mi',\n",
    "                          'max_shared_plmc',\n",
    "                          'max_frac_shared_plmc',\n",
    "                          'num_shared',\n",
    "                          'frac_shared_mi',\n",
    "                          'frac_shared_plmc',\n",
    "                          'r'\n",
    "                          ])"
   ]
  },
  {
   "cell_type": "code",
   "execution_count": 7,
   "id": "96ceb93c-fbc5-45e8-b88a-28b0896bc2df",
   "metadata": {},
   "outputs": [
    {
     "data": {
      "image/png": "[encoded data removed]",
      "text/plain": [
       "<Figure size 1575x525 with 1 Axes>"
      ]
     },
     "metadata": {},
     "output_type": "display_data"
    }
   ],
   "source": [
    "sns.catplot(data=r,\n",
    "            x='name',\n",
    "            y='r',\n",
    "            color='k',\n",
    "            size=7,\n",
    "            height=3.5, aspect=3)\n",
    "\n",
    "plt.xticks(size=10, rotation=90)\n",
    "sns.despine(top=False, right=False)\n",
    "plt.axhline(0, ls='dashed',\n",
    "            color='grey')\n",
    "plt.ylim(-0.15, 1.05)\n",
    "plt.xlabel('time-point')\n",
    "plt.ylabel('plmc correlation ($r$)')\n",
    "\n",
    "plt.savefig('plmc_correlation_1.png',\n",
    "            dpi=300,\n",
    "            bbox_inches='tight',\n",
    "            transparent=True)\n",
    "plt.savefig('plmc_correlation_1.svg',\n",
    "            dpi=300,\n",
    "            bbox_inches='tight',\n",
    "            transparent=True);"
   ]
  }
 ],
 "metadata": {
  "kernelspec": {
   "display_name": "Python 3 (ipykernel)",
   "language": "python",
   "name": "python3"
  },
  "language_info": {
   "codemirror_mode": {
    "name": "ipython",
    "version": 3
   },
   "file_extension": ".py",
   "mimetype": "text/x-python",
   "name": "python",
   "nbconvert_exporter": "python",
   "pygments_lexer": "ipython3",
   "version": "3.11.6"
  }
 },
 "nbformat": 4,
 "nbformat_minor": 5
}
