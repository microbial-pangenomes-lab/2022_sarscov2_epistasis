{
 "cells": [
  {
   "cell_type": "code",
   "execution_count": 1,
   "id": "19521f22-5671-4502-a180-b64cb99026e7",
   "metadata": {},
   "outputs": [],
   "source": [
    "import os\n",
    "import numpy as np\n",
    "import pandas as pd"
   ]
  },
  {
   "cell_type": "code",
   "execution_count": 2,
   "id": "627baba6-244e-4ded-bc9d-cd995388022f",
   "metadata": {},
   "outputs": [],
   "source": [
    "def read_mi(fname, name='all', date=True):\n",
    "    a = pd.read_csv(fname, sep='\\t')\n",
    "\n",
    "    # filtering\n",
    "    #\n",
    "    # 1. end of the genome\n",
    "    # 2. same gene and same codon\n",
    "    # 3. different gene and too close\n",
    "    #\n",
    "    a = a[((a['pos_source'] <= 29674) & (a['pos_target'] <= 29674)) &\n",
    "          (((a['gene_source'] == a['gene_target']) &\n",
    "            (a['feature_codon_source'] != a['feature_codon_target']) &\n",
    "            (a['codon_distance'] > 1)) |\n",
    "           ((a['gene_source'] != a['gene_target']) &\n",
    "            (a['distance'] > 1)))]\n",
    "\n",
    "    a['name'] = name\n",
    "    if date:\n",
    "        a['year'] = int(name.split('-')[0])\n",
    "        a['month'] = int(name.split('-')[1])\n",
    "\n",
    "    return a"
   ]
  },
  {
   "cell_type": "code",
   "execution_count": 3,
   "id": "a51df1b3-0db1-4fdf-86da-787db71eb7c0",
   "metadata": {},
   "outputs": [],
   "source": [
    "a = read_mi('../out/all-notime/mi_annotated.tsv.gz', date=False)"
   ]
  },
  {
   "cell_type": "code",
   "execution_count": 4,
   "id": "6e6366b0-1a2e-46e4-aaee-9cf539df3fd2",
   "metadata": {},
   "outputs": [
    {
     "data": {
      "text/plain": [
       "474"
      ]
     },
     "execution_count": 4,
     "metadata": {},
     "output_type": "execute_result"
    }
   ],
   "source": [
    "a.shape[0]"
   ]
  },
  {
   "cell_type": "code",
   "execution_count": 5,
   "id": "c4f4973c-c7cd-4523-93f1-702aa296dab7",
   "metadata": {},
   "outputs": [
    {
     "data": {
      "text/plain": [
       "222"
      ]
     },
     "execution_count": 5,
     "metadata": {},
     "output_type": "execute_result"
    }
   ],
   "source": [
    "a[a['outlier'] >= 4].shape[0]"
   ]
  },
  {
   "cell_type": "code",
   "execution_count": 6,
   "id": "ffac5ee9-3585-45a3-9806-9979dd93d70c",
   "metadata": {},
   "outputs": [
    {
     "data": {
      "text/plain": [
       "247"
      ]
     },
     "execution_count": 6,
     "metadata": {},
     "output_type": "execute_result"
    }
   ],
   "source": [
    "len(set(a['pos_source']).union(a['pos_target']))"
   ]
  },
  {
   "cell_type": "code",
   "execution_count": 7,
   "id": "5326efe9-8da9-4832-8cff-a47285105e0e",
   "metadata": {},
   "outputs": [
    {
     "data": {
      "text/plain": [
       "gene_source\n",
       "E           3\n",
       "M          18\n",
       "N          32\n",
       "ORF10       3\n",
       "ORF1ab    179\n",
       "ORF3a      10\n",
       "ORF6        4\n",
       "ORF7a       6\n",
       "ORF7b       3\n",
       "ORF8       17\n",
       "S         185\n",
       "Name: pos_source, dtype: int64"
      ]
     },
     "execution_count": 7,
     "metadata": {},
     "output_type": "execute_result"
    }
   ],
   "source": [
    "a.groupby('gene_source')['pos_source'].count()"
   ]
  },
  {
   "cell_type": "code",
   "execution_count": 8,
   "id": "9f7d0e46-bb7c-455d-9693-2bd87b02a189",
   "metadata": {},
   "outputs": [
    {
     "data": {
      "text/plain": [
       "outlier\n",
       "1     92\n",
       "2     96\n",
       "3     64\n",
       "4    222\n",
       "Name: pos_source, dtype: int64"
      ]
     },
     "execution_count": 8,
     "metadata": {},
     "output_type": "execute_result"
    }
   ],
   "source": [
    "a.groupby('outlier')['pos_source'].count()"
   ]
  },
  {
   "cell_type": "code",
   "execution_count": 9,
   "id": "b8ae5834-794d-4d2e-be55-eef96e111bcc",
   "metadata": {},
   "outputs": [],
   "source": [
    "a.to_csv('supplementary_table_1.tsv', sep='\\t', index=False)"
   ]
  },
  {
   "cell_type": "code",
   "execution_count": 10,
   "id": "1a6846fd-76dc-47f3-b095-2f9021c5fbf1",
   "metadata": {},
   "outputs": [
    {
     "name": "stdout",
     "output_type": "stream",
     "text": [
      "pos_source\n",
      "pos_target\n",
      "distance\n",
      "outlier\n",
      "mi\n",
      "feature_position_source\n",
      "gene_source\n",
      "codon_source\n",
      "feature_codon_source\n",
      "feature_position_target\n",
      "gene_target\n",
      "codon_target\n",
      "feature_codon_target\n",
      "codon_distance\n",
      "interaction\n",
      "name\n"
     ]
    }
   ],
   "source": [
    "for i in a.columns:\n",
    "    print(i)"
   ]
  },
  {
   "cell_type": "code",
   "execution_count": 11,
   "id": "63fef236-c354-4731-be18-2532f6b8d363",
   "metadata": {},
   "outputs": [
    {
     "name": "stdout",
     "output_type": "stream",
     "text": [
      "  adding: subset_1000000.tsv (deflated 79%)\n",
      "  adding: subset_100000.tsv (deflated 81%)\n",
      "  adding: subset_10000.tsv (deflated 83%)\n",
      "  adding: subset_1000.tsv (deflated 89%)\n"
     ]
    }
   ],
   "source": [
    "for name, idir in zip([1_000, 10_000,\n",
    "                       100_000, 1_000_000],\n",
    "                      ['../out/subsets-notime/'] * 4):\n",
    "    a = read_mi(f'{idir}{name}/mi_annotated.tsv.gz', name, date=False)\n",
    "    a.to_csv(f'subset_{name}.tsv', sep='\\t', index=False)\n",
    "!zip supplementary_material_1.zip subset_*.tsv"
   ]
  },
  {
   "cell_type": "code",
   "execution_count": 12,
   "id": "3245f8df-9d04-4dea-832d-efa65d750c7a",
   "metadata": {
    "tags": []
   },
   "outputs": [],
   "source": [
    "no_time = read_mi(f'../out/time-subsets-notime/2023-03/mi_annotated.tsv.gz',\n",
    "                  '2023-03',\n",
    "                  date=True)"
   ]
  },
  {
   "cell_type": "code",
   "execution_count": 13,
   "id": "c760f0f6-9049-495a-a69d-23fcda6d7d69",
   "metadata": {},
   "outputs": [],
   "source": [
    "no_time.to_csv('supplementary_table_2.tsv', sep='\\t', index=False)"
   ]
  },
  {
   "cell_type": "code",
   "execution_count": 14,
   "id": "515c9c90-dc68-4a5a-a723-d3827b0ddff2",
   "metadata": {
    "tags": []
   },
   "outputs": [],
   "source": [
    "p = pd.read_csv('../out/spikes/2023-03/2023-03.EC', sep=' ', header=None)\n",
    "p.columns = ['pos_source', 'base_source',\n",
    "             'pos_target', 'base_target',\n",
    "             '_', 'plmc']"
   ]
  },
  {
   "cell_type": "code",
   "execution_count": 15,
   "id": "6faafdf3-cac3-4e37-b630-39e1896ca048",
   "metadata": {},
   "outputs": [
    {
     "data": {
      "text/plain": [
       "Index(['pos_source', 'base_source', 'pos_target', 'base_target', '_', 'plmc'], dtype='object')"
      ]
     },
     "execution_count": 15,
     "metadata": {},
     "output_type": "execute_result"
    }
   ],
   "source": [
    "p.columns"
   ]
  },
  {
   "cell_type": "code",
   "execution_count": 16,
   "id": "fec35873-4bbf-4b97-ac8e-fc3381838172",
   "metadata": {},
   "outputs": [],
   "source": [
    "p[['pos_source', 'pos_target',\n",
    "   'plmc']\n",
    " ].to_csv('supplementary_material_2.tsv.zip', sep='\\t', index=False)"
   ]
  },
  {
   "cell_type": "code",
   "execution_count": 17,
   "id": "cc885333-86b5-4268-ae47-e67c248b77e8",
   "metadata": {
    "tags": []
   },
   "outputs": [
    {
     "name": "stdout",
     "output_type": "stream",
     "text": [
      "  adding: time_subset_2020-03.tsv (deflated 90%)\n",
      "  adding: time_subset_2020-04.tsv (deflated 90%)\n",
      "  adding: time_subset_2020-05.tsv (deflated 90%)\n",
      "  adding: time_subset_2020-06.tsv (deflated 90%)\n",
      "  adding: time_subset_2020-07.tsv (deflated 90%)\n",
      "  adding: time_subset_2020-08.tsv (deflated 89%)\n",
      "  adding: time_subset_2020-09.tsv (deflated 89%)\n",
      "  adding: time_subset_2020-10.tsv (deflated 89%)\n",
      "  adding: time_subset_2020-11.tsv (deflated 89%)\n",
      "  adding: time_subset_2020-12.tsv (deflated 89%)\n",
      "  adding: time_subset_2021-01.tsv (deflated 89%)\n",
      "  adding: time_subset_2021-02.tsv (deflated 89%)\n",
      "  adding: time_subset_2021-03.tsv (deflated 89%)\n",
      "  adding: time_subset_2021-04.tsv (deflated 89%)\n",
      "  adding: time_subset_2021-05.tsv (deflated 88%)\n",
      "  adding: time_subset_2021-06.tsv (deflated 88%)\n",
      "  adding: time_subset_2021-07.tsv (deflated 88%)\n",
      "  adding: time_subset_2021-08.tsv (deflated 88%)\n",
      "  adding: time_subset_2021-09.tsv (deflated 88%)\n",
      "  adding: time_subset_2021-10.tsv (deflated 89%)\n",
      "  adding: time_subset_2021-11.tsv (deflated 89%)\n",
      "  adding: time_subset_2021-12.tsv (deflated 87%)\n",
      "  adding: time_subset_2022-01.tsv (deflated 87%)\n",
      "  adding: time_subset_2022-02.tsv (deflated 85%)\n",
      "  adding: time_subset_2022-03.tsv (deflated 85%)\n",
      "  adding: time_subset_2022-04.tsv (deflated 84%)\n",
      "  adding: time_subset_2022-05.tsv (deflated 84%)\n",
      "  adding: time_subset_2022-06.tsv (deflated 83%)\n",
      "  adding: time_subset_2022-07.tsv (deflated 83%)\n",
      "  adding: time_subset_2022-08.tsv (deflated 84%)\n",
      "  adding: time_subset_2022-09.tsv (deflated 84%)\n",
      "  adding: time_subset_2022-10.tsv (deflated 83%)\n",
      "  adding: time_subset_2022-11.tsv (deflated 83%)\n",
      "  adding: time_subset_2022-12.tsv (deflated 83%)\n",
      "  adding: time_subset_2023-01.tsv (deflated 83%)\n",
      "  adding: time_subset_2023-02.tsv (deflated 83%)\n",
      "  adding: time_subset_2023-03.tsv (deflated 83%)\n"
     ]
    }
   ],
   "source": [
    "for name in sorted(os.listdir('../out/time-filtered-subsets/')):\n",
    "    try:\n",
    "        a = read_mi(f'../out/time-filtered-subsets/{name}/mi_annotated.tsv.gz',\n",
    "                    name,\n",
    "                    date=True)\n",
    "        a.sort_values('mi', ascending=False\n",
    "                     ).to_csv(f'time_subset_{name}.tsv',\n",
    "                              sep='\\t', index=False)\n",
    "    except FileNotFoundError:\n",
    "        pass\n",
    "!zip supplementary_material_3.zip time_subset_*.tsv"
   ]
  }
 ],
 "metadata": {
  "kernelspec": {
   "display_name": "Python 3 (ipykernel)",
   "language": "python",
   "name": "python3"
  },
  "language_info": {
   "codemirror_mode": {
    "name": "ipython",
    "version": 3
   },
   "file_extension": ".py",
   "mimetype": "text/x-python",
   "name": "python",
   "nbconvert_exporter": "python",
   "pygments_lexer": "ipython3",
   "version": "3.11.4"
  }
 },
 "nbformat": 4,
 "nbformat_minor": 5
}
